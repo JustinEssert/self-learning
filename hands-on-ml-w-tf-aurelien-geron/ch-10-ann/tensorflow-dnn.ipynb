{
 "cells": [
  {
   "cell_type": "markdown",
   "metadata": {},
   "source": [
    "** DNN Using Tensorflow **\n",
    "\n",
    "This notebook uses tensorflow's python api to create a deep neural network"
   ]
  },
  {
   "cell_type": "markdown",
   "metadata": {},
   "source": [
    "## Construction Phase"
   ]
  },
  {
   "cell_type": "code",
   "execution_count": 1,
   "metadata": {
    "collapsed": true
   },
   "outputs": [],
   "source": [
    "# To support both python 2 and python 3\n",
    "from __future__ import division, print_function, unicode_literals\n",
    "\n",
    "import numpy as np\n",
    "import tensorflow as tf\n",
    "\n",
    "# Defining variables for MNIST dataset\n",
    "n_inputs = 28*28\n",
    "n_hidden1 = 300\n",
    "n_hidden2 = 100\n",
    "n_outputs = 10"
   ]
  },
  {
   "cell_type": "markdown",
   "metadata": {},
   "source": [
    "Create Network with 2 hidden layers"
   ]
  },
  {
   "cell_type": "code",
   "execution_count": 2,
   "metadata": {
    "collapsed": true
   },
   "outputs": [],
   "source": [
    "# Creating input and output shapes\n",
    "X = tf.placeholder(tf.float32, shape=(None, n_inputs), name=\"X\")\n",
    "y = tf.placeholder(tf.int64, shape=(None), name=\"y\")"
   ]
  },
  {
   "cell_type": "markdown",
   "metadata": {},
   "source": [
    "### Define Network"
   ]
  },
  {
   "cell_type": "markdown",
   "metadata": {},
   "source": [
    "#### Create network by defining our own layers"
   ]
  },
  {
   "cell_type": "code",
   "execution_count": 3,
   "metadata": {
    "collapsed": true
   },
   "outputs": [],
   "source": [
    "# Create a layer\n",
    "def neuron_layer(X, n_neurons, name, activation=None):\n",
    "    # Create a name scope for each layer\n",
    "    with tf.name_scope(name):\n",
    "        # Get input shape\n",
    "        n_inputs = int(X.get_shape()[1])\n",
    "        # Create weights vector\n",
    "        stddev = 2 / np.sqrt(n_inputs)\n",
    "        init = tf.truncated_normal((n_inputs, n_neurons), stddev=stddev)\n",
    "        W = tf.Variable(init, name=\"weights\")\n",
    "        # Create bias vector\n",
    "        b = tf.Variable(tf.zeros([n_neurons]), name=\"biases\")\n",
    "        # Generate output\n",
    "        z = tf.matmul(X, W) + b\n",
    "        # Use relu activation if specified\n",
    "        if activation==\"relu\":\n",
    "            return tf.nn.relu(z)\n",
    "        else:\n",
    "            return z"
   ]
  },
  {
   "cell_type": "code",
   "execution_count": 4,
   "metadata": {},
   "outputs": [],
   "source": [
    "# Create a name scope for the network\n",
    "with tf.name_scope(\"dnn\"):\n",
    "    # create a hidden layer with inputs from the input layer\n",
    "    hidden1 = neuron_layer(X, n_hidden1, \"hidden1\", activation=\"relu\")\n",
    "    # create a hidden layer with inputs from the first hidden layer\n",
    "    hidden2 = neuron_layer(hidden1, n_hidden2, \"hidden2\", activation=\"relu\")\n",
    "    # create an output layer with inputs from the second hidden layer\n",
    "    logits  = neuron_layer(hidden2, n_outputs, \"outputs\")"
   ]
  },
  {
   "cell_type": "markdown",
   "metadata": {},
   "source": [
    "#### Create a network by using tensorflow's layers"
   ]
  },
  {
   "cell_type": "code",
   "execution_count": 5,
   "metadata": {},
   "outputs": [],
   "source": [
    "from tensorflow.contrib.layers import fully_connected\n",
    "# Create a name scope for the network\n",
    "with tf.name_scope(\"dnn\"):\n",
    "    # create a hidden layer with inputs from the input layer\n",
    "    hidden1 = fully_connected(X, n_hidden1, scope=\"hidden1\")\n",
    "    # create a hidden layer with inputs from the first hidden layer\n",
    "    hidden2 = fully_connected(hidden1, n_hidden2, scope=\"hidden2\")\n",
    "    # create an output layer with inputs from the second hidden layer\n",
    "    logits  = fully_connected(hidden2, n_outputs, scope=\"outputs\", activation_fn=None)"
   ]
  },
  {
   "cell_type": "markdown",
   "metadata": {},
   "source": [
    "### Define Cost Function"
   ]
  },
  {
   "cell_type": "code",
   "execution_count": 6,
   "metadata": {
    "collapsed": true
   },
   "outputs": [],
   "source": [
    "# Create a name scope for the cost function\n",
    "with tf.name_scope(\"loss\"):\n",
    "    # Apply the softmax and then evaluate cross-entropy\n",
    "    xentropy = tf.nn.sparse_softmax_cross_entropy_with_logits(labels=y, logits=logits)\n",
    "    loss = tf.reduce_mean(xentropy, name=\"loss\")"
   ]
  },
  {
   "cell_type": "markdown",
   "metadata": {},
   "source": [
    "### Define Optimizer"
   ]
  },
  {
   "cell_type": "code",
   "execution_count": 7,
   "metadata": {
    "collapsed": true
   },
   "outputs": [],
   "source": [
    "learning_rate = 0.01\n",
    "\n",
    "# Create a name scope for the optimizer\n",
    "with tf.name_scope(\"train\"):\n",
    "    # Use gradient descent for the optimizer\n",
    "    optimizer = tf.train.GradientDescentOptimizer(learning_rate)\n",
    "    training_op = optimizer.minimize(loss)"
   ]
  },
  {
   "cell_type": "markdown",
   "metadata": {},
   "source": [
    "### Define Evaluation"
   ]
  },
  {
   "cell_type": "code",
   "execution_count": 8,
   "metadata": {
    "collapsed": true
   },
   "outputs": [],
   "source": [
    "# Create a name scope for the evaluation\n",
    "with tf.name_scope(\"eval\"):\n",
    "    correct = tf.nn.in_top_k(logits, y, 1)\n",
    "    accuracy = tf.reduce_mean(tf.cast(correct, tf.float32))"
   ]
  },
  {
   "cell_type": "markdown",
   "metadata": {},
   "source": [
    "### Final Steps"
   ]
  },
  {
   "cell_type": "code",
   "execution_count": 9,
   "metadata": {},
   "outputs": [],
   "source": [
    "# Create a node to initialize all variables\n",
    "init = tf.global_variables_initializer()\n",
    "\n",
    "# Create a saver to save our trained model\n",
    "saver = tf.train.Saver()"
   ]
  },
  {
   "cell_type": "markdown",
   "metadata": {},
   "source": [
    "## Execution Phase"
   ]
  },
  {
   "cell_type": "code",
   "execution_count": 10,
   "metadata": {},
   "outputs": [
    {
     "name": "stdout",
     "output_type": "stream",
     "text": [
      "Extracting /tmp/data/train-images-idx3-ubyte.gz\n",
      "Extracting /tmp/data/train-labels-idx1-ubyte.gz\n",
      "Extracting /tmp/data/t10k-images-idx3-ubyte.gz\n",
      "Extracting /tmp/data/t10k-labels-idx1-ubyte.gz\n"
     ]
    }
   ],
   "source": [
    "# Load MNIST data\n",
    "from tensorflow.examples.tutorials.mnist import input_data\n",
    "mnist = input_data.read_data_sets(\"/tmp/data/\")"
   ]
  },
  {
   "cell_type": "code",
   "execution_count": 11,
   "metadata": {
    "collapsed": true
   },
   "outputs": [],
   "source": [
    "# Define hyperparameters\n",
    "n_epochs   = 20\n",
    "batch_size = 50"
   ]
  },
  {
   "cell_type": "markdown",
   "metadata": {},
   "source": [
    "**Train the model**"
   ]
  },
  {
   "cell_type": "markdown",
   "metadata": {},
   "source": [
    "### Creating a new session"
   ]
  },
  {
   "cell_type": "code",
   "execution_count": 12,
   "metadata": {},
   "outputs": [
    {
     "name": "stdout",
     "output_type": "stream",
     "text": [
      "0 Train accuracy: 0.96 Test_accuracy 0.8973\n",
      "1 Train accuracy: 0.98 Test_accuracy 0.9215\n",
      "2 Train accuracy: 0.98 Test_accuracy 0.9346\n",
      "3 Train accuracy: 1.0 Test_accuracy 0.9381\n",
      "4 Train accuracy: 0.92 Test_accuracy 0.9429\n",
      "5 Train accuracy: 0.92 Test_accuracy 0.9487\n",
      "6 Train accuracy: 0.98 Test_accuracy 0.9506\n",
      "7 Train accuracy: 0.98 Test_accuracy 0.9546\n",
      "8 Train accuracy: 0.96 Test_accuracy 0.958\n",
      "9 Train accuracy: 0.98 Test_accuracy 0.9588\n",
      "10 Train accuracy: 0.92 Test_accuracy 0.9608\n",
      "11 Train accuracy: 0.98 Test_accuracy 0.963\n",
      "12 Train accuracy: 0.98 Test_accuracy 0.9638\n",
      "13 Train accuracy: 0.98 Test_accuracy 0.9652\n",
      "14 Train accuracy: 0.98 Test_accuracy 0.9659\n",
      "15 Train accuracy: 1.0 Test_accuracy 0.9672\n",
      "16 Train accuracy: 0.98 Test_accuracy 0.967\n",
      "17 Train accuracy: 1.0 Test_accuracy 0.9687\n",
      "18 Train accuracy: 0.96 Test_accuracy 0.9707\n",
      "19 Train accuracy: 0.98 Test_accuracy 0.9709\n"
     ]
    }
   ],
   "source": [
    "# Open Tensorflow session\n",
    "with tf.Session() as sess:\n",
    "    # Initialize variables\n",
    "    init.run()\n",
    "    # Run through main training loop\n",
    "    for epoch in range(n_epochs):\n",
    "        # Run through each batch\n",
    "        for iteration in range(mnist.train.num_examples // batch_size):\n",
    "            # Get the next batch\n",
    "            X_batch, y_batch = mnist.train.next_batch(batch_size)\n",
    "            # Run through the batch\n",
    "            sess.run(training_op, feed_dict={X: X_batch, y: y_batch})\n",
    "        # Evaluate training accuracy\n",
    "        acc_train = accuracy.eval(feed_dict={X: X_batch, y: y_batch})\n",
    "        # Evaluate testing accuracy\n",
    "        acc_test  = accuracy.eval(feed_dict={X: mnist.test.images, \n",
    "                                             y: mnist.test.labels})\n",
    "        print(epoch, \"Train accuracy:\", acc_train, \"Test_accuracy\", acc_test)\n",
    "    # Save the model\n",
    "    save_path = saver.save(sess, \"./dnn_model.ckpt\")"
   ]
  },
  {
   "cell_type": "markdown",
   "metadata": {},
   "source": [
    "### Loading a previous session"
   ]
  },
  {
   "cell_type": "code",
   "execution_count": 13,
   "metadata": {},
   "outputs": [
    {
     "ename": "SyntaxError",
     "evalue": "invalid syntax (<ipython-input-13-6f27a71e7190>, line 6)",
     "output_type": "error",
     "traceback": [
      "\u001b[0;36m  File \u001b[0;32m\"<ipython-input-13-6f27a71e7190>\"\u001b[0;36m, line \u001b[0;32m6\u001b[0m\n\u001b[0;31m    X_new_scaled = [....] # A new set of images to evaluate, must be scaled from 0 to 1\u001b[0m\n\u001b[0m                        ^\u001b[0m\n\u001b[0;31mSyntaxError\u001b[0m\u001b[0;31m:\u001b[0m invalid syntax\n"
     ]
    }
   ],
   "source": [
    "# Open Tensorflow session\n",
    "with tf.Session() as sess:\n",
    "    # Restore the model\n",
    "    saver.restore(sess, \"./dnn_model.ckpt\")\n",
    "    # Get new set of data\n",
    "    X_new_scaled = [....] # A new set of images to evaluate, must be scaled from 0 to 1\n",
    "    # Evaluate new dataset on the model\n",
    "    Z = logits.eval(feed_dict={X: X_new_scaled})\n",
    "    # Generate the prediction\n",
    "    y_pred = np.argmax(Z, axis=1)"
   ]
  },
  {
   "cell_type": "code",
   "execution_count": null,
   "metadata": {
    "collapsed": true
   },
   "outputs": [],
   "source": []
  }
 ],
 "metadata": {
  "kernelspec": {
   "display_name": "Python 3",
   "language": "python",
   "name": "python3"
  },
  "language_info": {
   "codemirror_mode": {
    "name": "ipython",
    "version": 3
   },
   "file_extension": ".py",
   "mimetype": "text/x-python",
   "name": "python",
   "nbconvert_exporter": "python",
   "pygments_lexer": "ipython3",
   "version": "3.6.1"
  },
  "toc": {
   "colors": {
    "hover_highlight": "#DAA520",
    "running_highlight": "#FF0000",
    "selected_highlight": "#FFD700"
   },
   "moveMenuLeft": true,
   "nav_menu": {
    "height": "225px",
    "width": "252px"
   },
   "navigate_menu": true,
   "number_sections": true,
   "sideBar": true,
   "threshold": 4,
   "toc_cell": false,
   "toc_section_display": "block",
   "toc_window_display": false,
   "widenNotebook": false
  }
 },
 "nbformat": 4,
 "nbformat_minor": 2
}
